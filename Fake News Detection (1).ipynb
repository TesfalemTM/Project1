{
  "metadata": {
    "kernelspec": {
      "name": "python",
      "display_name": "Python (Pyodide)",
      "language": "python"
    },
    "language_info": {
      "codemirror_mode": {
        "name": "python",
        "version": 3
      },
      "file_extension": ".py",
      "mimetype": "text/x-python",
      "name": "python",
      "nbconvert_exporter": "python",
      "pygments_lexer": "ipython3",
      "version": "3.8"
    }
  },
  "nbformat_minor": 4,
  "nbformat": 4,
  "cells": [
    {
      "cell_type": "markdown",
      "source": "# **Fake News Detection**\r\n***",
      "metadata": {}
    },
    {
      "cell_type": "markdown",
      "source": "## **Introduction**\r\n",
      "metadata": {}
    },
    {
      "cell_type": "markdown",
      "source": "In the digital era, encountering deceptive or inaccurate content has become increasingly common. This phenomenon has been particularly evident in recent events such as the ongoing COVID-19 pandemic, US elections, and recent military conflicts like Russia-Ukraine and Israel-Hamas. This type of misinformation, often called **\"fake news\"**, is intentionally fabricated or deceptive content presented as authentic news. It is distributed through various channels such as media and social networks, which mimic the distribution methods of legitimate news sources.\r\nIn the current digital landscape, it has become a significant problem, in contrast to the traditional news channels. In the past, newspapers and television had a limited number of distribution channels, which resulted in strict fact-checking and the provision of accurate information. However, with the internet becoming the primary source of information, the ease of sharing content has increased significantly, leading to a rise in unverified information.\r\n\r\nThis surge in fake news poses a serious problem due to its potential to deceive and manipulate public opinion. False narratives can impact political processes public health, and even contribute to social unrest. The lack of strict editorial oversight and the rapid dissemination of information on digital platforms exacerbate the challenge of distinguishing between genuine and misleading content.\r\n\r\nFortunately, advancements in data science offer a promising solution to the problem of fake news. Today, data analytics tools and sophisticated algorithms can analyze vast amounts of data to detect patterns and anomalies that may indicate misinformation.  \r\nMy project aims to use these algorithms to build a predictive model that can determine whether a piece of news is **true** or **false**.  \r\nThe goal of developing such a tool is to not only improve the ability to identify fake news but also to contribute to larger efforts to combat the spread of misinformation.   \r\nThis project aligns with the growing need for technologically driven solutions to address the challenges posed by fake news in the contemporary information landscape.",
      "metadata": {}
    },
    {
      "cell_type": "markdown",
      "source": "## **Data Collection**",
      "metadata": {}
    },
    {
      "cell_type": "markdown",
      "source": "**Source**: kaggle.com  \r\n**Link**: https://www.kaggle.com/datasets/c010104/fakenewsdetectiondataset?select=Fake.csv",
      "metadata": {}
    },
    {
      "cell_type": "code",
      "source": "# Import libraries for data manipulation\nimport pandas as pd\n\n# Import libraries for data visualization\nimport matplotlib.pyplot as plt\nimport seaborn as sns\n\n# Import libraries for text preprocessing (NLP)\nfrom wordcloud import WordCloud, STOPWORDS\nimport nltk\nfrom nltk.corpus import stopwords\nfrom nltk.tokenize import word_tokenize\nfrom nltk.stem import WordNetLemmatizer\nimport re\n\n# Import libraries for transformation (NLP)\nfrom sklearn.feature_extraction.text import TfidfVectorizer, TfidfTransformer\n\n# Import libraries for ML\nfrom sklearn import preprocessing\nfrom sklearn.model_selection import train_test_split\nfrom sklearn.linear_model import LogisticRegression\nfrom sklearn.metrics import accuracy_score, precision_score, recall_score, confusion_matrix",
      "metadata": {
        "trusted": true
      },
      "outputs": [],
      "execution_count": 6
    },
    {
      "cell_type": "code",
      "source": "# read csv\ndf_fake = pd.read_csv('Project1/Fake.csv')\ndf_true = pd.read_csv('Project1/True.csv')",
      "metadata": {
        "trusted": true
      },
      "outputs": [],
      "execution_count": 7
    },
    {
      "cell_type": "code",
      "source": "",
      "metadata": {
        "trusted": true
      },
      "outputs": [],
      "execution_count": null
    }
  ]
}