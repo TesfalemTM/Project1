{
  "nbformat": 4,
  "nbformat_minor": 0,
  "metadata": {
    "colab": {
      "provenance": []
    },
    "kernelspec": {
      "name": "python3",
      "display_name": "Python 3"
    },
    "language_info": {
      "name": "python"
    }
  },
  "cells": [
    {
      "cell_type": "code",
      "execution_count": 1,
      "metadata": {
        "id": "U7Ok_Z3qs3FO"
      },
      "outputs": [],
      "source": [
        "# import l\n",
        "\n",
        "import pandas as pd"
      ]
    }
  ]
}